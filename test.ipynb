{
 "cells": [
  {
   "cell_type": "code",
   "execution_count": 1,
   "metadata": {},
   "outputs": [],
   "source": [
    "import sympy as sp"
   ]
  },
  {
   "cell_type": "code",
   "execution_count": 5,
   "metadata": {},
   "outputs": [
    {
     "name": "stdout",
     "output_type": "stream",
     "text": [
      "                  __________________________\n",
      "                 ╱    2   2    2          2 \n",
      "l⋅θ₁⋅cos(θ₂) - ╲╱  - l ⋅θ₁ ⋅sin (θ₂) + l₀₂  \n",
      "                  __________________________\n",
      "                 ╱    2   2    2          2 \n",
      "l⋅θ₁⋅cos(θ₂) + ╲╱  - l ⋅θ₁ ⋅sin (θ₂) + l₀₂  \n"
     ]
    }
   ],
   "source": [
    "l02 = sp.symbols('l02')\n",
    "l1 = sp.symbols('l1')\n",
    "theta_1 = sp.symbols('theta_1')\n",
    "theta_2 = sp.symbols('theta_2')\n",
    "l = sp.symbols('l')\n",
    "func = l1**2 + (l * theta_1)**2 - 2 * l1 * (l * theta_1) * sp.cos(theta_2) - l02**2\n",
    "ans = sp.solve(func, l1)\n",
    "ans1 = ans[0].simplify()\n",
    "sp.pprint(ans1)\n",
    "ans2 = ans[1].simplify()\n",
    "sp.pprint(ans2)"
   ]
  },
  {
   "cell_type": "code",
   "execution_count": 6,
   "metadata": {},
   "outputs": [],
   "source": [
    "t = sp.symbols('t')\n",
    "y_m2 = sp.Function('y_m2')(t)\n",
    "theta_m2 = sp.Function('theta_m2')(t)\n",
    "ans = sp.diff(sp.diff(y_m2 + theta_m2, t), t)"
   ]
  },
  {
   "cell_type": "code",
   "execution_count": 7,
   "metadata": {},
   "outputs": [
    {
     "name": "stdout",
     "output_type": "stream",
     "text": [
      " 2             2         \n",
      "d             d          \n",
      "───(θₘ₂(t)) + ───(yₘ₂(t))\n",
      "  2             2        \n",
      "dt            dt         \n"
     ]
    }
   ],
   "source": [
    "sp.pprint(ans)"
   ]
  },
  {
   "cell_type": "code",
   "execution_count": 8,
   "metadata": {},
   "outputs": [
    {
     "name": "stdout",
     "output_type": "stream",
     "text": [
      "                               ⎛     2         ⎞\n",
      "                               ⎜    d          ⎟\n",
      "-k₁⋅l₁⋅θₘ₂(t) - k₁⋅yₘ₂(t) - m₁⋅⎜g + ───(yₘ₂(t))⎟\n",
      "                               ⎜      2        ⎟\n",
      "                               ⎝    dt         ⎠\n",
      "────────────────────────────────────────────────\n",
      "                       m₁                       \n"
     ]
    }
   ],
   "source": [
    "m1 = sp.symbols('m1')\n",
    "g, k1 = sp.symbols('g k1')\n",
    "func = m1 * ans + m1 * g + k1 * (y_m2 + l1 * theta_m2)\n",
    "ans = sp.solve(func, sp.diff(sp.diff(theta_m2, t), t))\n",
    "solution = ans[0].simplify()\n",
    "sp.pprint(solution)"
   ]
  },
  {
   "cell_type": "code",
   "execution_count": null,
   "metadata": {},
   "outputs": [],
   "source": []
  }
 ],
 "metadata": {
  "kernelspec": {
   "display_name": "Python 3",
   "language": "python",
   "name": "python3"
  },
  "language_info": {
   "codemirror_mode": {
    "name": "ipython",
    "version": 3
   },
   "file_extension": ".py",
   "mimetype": "text/x-python",
   "name": "python",
   "nbconvert_exporter": "python",
   "pygments_lexer": "ipython3",
   "version": "3.10.15"
  }
 },
 "nbformat": 4,
 "nbformat_minor": 2
}
