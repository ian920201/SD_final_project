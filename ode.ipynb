{
 "cells": [
  {
   "cell_type": "code",
   "execution_count": 2,
   "metadata": {},
   "outputs": [],
   "source": [
    "import sympy as sp"
   ]
  },
  {
   "cell_type": "code",
   "execution_count": 3,
   "metadata": {},
   "outputs": [],
   "source": [
    "l = sp.symbols('l')\n",
    "t = sp.symbols('t')\n",
    "theta_1 = sp.Function('theta_1')(t)\n",
    "theta_2 = sp.Function('theta_2')(t)\n",
    "func1 = l * sp.sin(theta_1) * sp.cos(theta_2) + l * (sp.cos(theta_1) - 1) * sp.sin(theta_2)\n",
    "dfunc1 = sp.diff(func1, t)\n",
    "\n"
   ]
  },
  {
   "cell_type": "code",
   "execution_count": 4,
   "metadata": {},
   "outputs": [],
   "source": [
    "y_m = sp.Function('y_m')(t)\n",
    "y_M = sp.Function('y_M')(t)\n",
    "theta_M = sp.symbols('theta_M')\n",
    "func2 = y_m * sp.cos(theta_M) - y_M * sp.cos(theta_M)\n",
    "dfunc2 = sp.diff(func2, t)"
   ]
  },
  {
   "cell_type": "code",
   "execution_count": 5,
   "metadata": {},
   "outputs": [
    {
     "name": "stdout",
     "output_type": "stream",
     "text": [
      "                                                                               ↪\n",
      "        2 ⎛                   d                              d                 ↪\n",
      "0.5⋅c₄⋅l ⋅⎜cos(θ₁(t) + θ₂(t))⋅──(θ₁(t)) + cos(θ₁(t) + θ₂(t))⋅──(θ₂(t)) - cos(θ ↪\n",
      "          ⎝                   dt                             dt                ↪\n",
      "\n",
      "↪                 2                                  2          \n",
      "↪       d        ⎞           ⎛d            d        ⎞     2     \n",
      "↪ ₂(t))⋅──(θ₂(t))⎟  + 0.5⋅c₅⋅⎜──(y_M(t)) - ──(yₘ(t))⎟ ⋅cos (θ_M)\n",
      "↪       dt       ⎠           ⎝dt           dt       ⎠           \n"
     ]
    }
   ],
   "source": [
    "c4, c5 = sp.symbols('c4 c5')\n",
    "ans = 0.5 * c4 * (dfunc1**2) + 0.5 * c5 * (dfunc2**2)\n",
    "D = ans.simplify()\n",
    "sp.pprint(D)"
   ]
  },
  {
   "cell_type": "code",
   "execution_count": 6,
   "metadata": {},
   "outputs": [],
   "source": [
    "k1, k2, k3, k4, k5, r = sp.symbols('k1 k2 k3 k4 k5 r')\n",
    "m1, m2, m3, M = sp.symbols('m1 m2 m3 M')\n",
    "g = sp.symbols('g')\n",
    "l0 = sp.symbols('l0')"
   ]
  },
  {
   "cell_type": "code",
   "execution_count": 7,
   "metadata": {},
   "outputs": [
    {
     "name": "stdout",
     "output_type": "stream",
     "text": [
      "                  2                        2                        2          ↪\n",
      "      ⎛d         ⎞         2    ⎛d        ⎞         2    ⎛d        ⎞           ↪\n",
      "0.5⋅M⋅⎜──(y_M(t))⎟  + 0.5⋅l ⋅m₁⋅⎜──(θ₁(t))⎟  + 0.5⋅l ⋅m₃⋅⎜──(θ₁(t))⎟  + 0.5⋅m₂ ↪\n",
      "      ⎝dt        ⎠              ⎝dt       ⎠              ⎝dt       ⎠           ↪\n",
      "\n",
      "↪             2\n",
      "↪  ⎛d        ⎞ \n",
      "↪ ⋅⎜──(yₘ(t))⎟ \n",
      "↪  ⎝dt       ⎠ \n"
     ]
    }
   ],
   "source": [
    "ans = 0.5 * m1 * (l * (sp.diff(theta_1, t)))**2 + 0.5 * m2 * (sp.diff(y_m, t))**2 + 0.5 * m3 * (l * sp.diff(theta_1, t))**2 + 0.5 * M * (sp.diff(y_M, t))**2\n",
    "T = ans.simplify()\n",
    "sp.pprint(T)"
   ]
  },
  {
   "cell_type": "code",
   "execution_count": 8,
   "metadata": {},
   "outputs": [],
   "source": [
    "ans = 0.5 * k1 * ((l * sp.sin(theta_1))**2) + \\\n",
    "      0.5 * k2 * (y_m**2) + \\\n",
    "      0.5 * k3 * ((l * sp.sin(theta_1))**2) + \\\n",
    "      0.5 * k4 * (func1**2) + \\\n",
    "      0.5 * k5 * (func2**2) + \\\n",
    "      m1 * g * (r + y_m + l * sp.sin(theta_1)) + \\\n",
    "      m2 * g * (r + y_m) + \\\n",
    "      m3 * g * (r + y_m - l * sp.sin(theta_1)) + \\\n",
    "      M * g * (r + y_m + sp.cos(theta_M) * (func2 + l0))"
   ]
  },
  {
   "cell_type": "code",
   "execution_count": 9,
   "metadata": {},
   "outputs": [
    {
     "name": "stdout",
     "output_type": "stream",
     "text": [
      "                                                                               ↪\n",
      "M⋅g⋅(r + (l₀ - y_M(t)⋅cos(θ_M) + yₘ(t)⋅cos(θ_M))⋅cos(θ_M) + yₘ(t)) + g⋅m₁⋅(l⋅s ↪\n",
      "\n",
      "↪                                                                              ↪\n",
      "↪ in(θ₁(t)) + r + yₘ(t)) + g⋅m₂⋅(r + yₘ(t)) + g⋅m₃⋅(-l⋅sin(θ₁(t)) + r + yₘ(t)) ↪\n",
      "\n",
      "↪            2    2                   2              2    2                  2 ↪\n",
      "↪  + 0.5⋅k₁⋅l ⋅sin (θ₁(t)) + 0.5⋅k₂⋅yₘ (t) + 0.5⋅k₃⋅l ⋅sin (θ₁(t)) + 0.5⋅k₄⋅l  ↪\n",
      "\n",
      "↪                                   2                          2    2     \n",
      "↪ ⋅(sin(θ₁(t) + θ₂(t)) - sin(θ₂(t)))  + 0.5⋅k₅⋅(y_M(t) - yₘ(t)) ⋅cos (θ_M)\n"
     ]
    }
   ],
   "source": [
    "V = ans.simplify()\n",
    "sp.pprint(V)"
   ]
  },
  {
   "cell_type": "code",
   "execution_count": 10,
   "metadata": {},
   "outputs": [],
   "source": [
    "T_diff_theta_1_dot = sp.diff(T, sp.diff(theta_1, t))\n",
    "T_diff_theta_2_dot = sp.diff(T, sp.diff(theta_2, t))\n",
    "T_diff_y_m_dot = sp.diff(T, sp.diff(y_m, t))\n",
    "T_diff_y_M_dot = sp.diff(T, sp.diff(y_M, t))\n",
    "diff_T_diff_theta_1_dot = sp.diff(T_diff_theta_1_dot, t)\n",
    "diff_T_diff_theta_2_dot = sp.diff(T_diff_theta_2_dot, t)\n",
    "diff_T_diff_y_m_dot = sp.diff(T_diff_y_m_dot, t)\n",
    "diff_T_diff_y_M_dot = sp.diff(T_diff_y_M_dot, t)"
   ]
  },
  {
   "cell_type": "code",
   "execution_count": 11,
   "metadata": {},
   "outputs": [],
   "source": [
    "T_diff_theta_1 = sp.diff(T, theta_1)\n",
    "T_diff_theta_2 = sp.diff(T, theta_2)\n",
    "T_diff_y_m = sp.diff(T, y_m)\n",
    "T_diff_y_M = sp.diff(T, y_M)"
   ]
  },
  {
   "cell_type": "code",
   "execution_count": 12,
   "metadata": {},
   "outputs": [],
   "source": [
    "D_diff_theta_1_dot = sp.diff(D, sp.diff(theta_1, t))\n",
    "D_diff_theta_2_dot = sp.diff(D, sp.diff(theta_2, t))\n",
    "D_diff_y_m_dot = sp.diff(D, sp.diff(y_m, t))\n",
    "D_diff_y_M_dot = sp.diff(D, sp.diff(y_M, t))"
   ]
  },
  {
   "cell_type": "code",
   "execution_count": 13,
   "metadata": {},
   "outputs": [],
   "source": [
    "V_diff_theta_1 = sp.diff(V, theta_1)\n",
    "V_diff_theta_2 = sp.diff(V, theta_2)\n",
    "V_diff_y_m = sp.diff(V, y_m)\n",
    "V_diff_y_M = sp.diff(V, y_M)"
   ]
  },
  {
   "cell_type": "code",
   "execution_count": 14,
   "metadata": {},
   "outputs": [
    {
     "name": "stdout",
     "output_type": "stream",
     "text": [
      "  ⎛                                                                            ↪\n",
      "  ⎜         ⎛                   d                              d               ↪\n",
      "l⋅⎜1.0⋅c₄⋅l⋅⎜cos(θ₁(t) + θ₂(t))⋅──(θ₁(t)) + cos(θ₁(t) + θ₂(t))⋅──(θ₂(t)) - cos ↪\n",
      "  ⎜         ⎝                   dt                             dt              ↪\n",
      "  ⎝                                                                            ↪\n",
      "\n",
      "↪                                                                              ↪\n",
      "↪         d        ⎞                                                           ↪\n",
      "↪ (θ₂(t))⋅──(θ₂(t))⎟⋅cos(θ₁(t) + θ₂(t)) + g⋅m₁⋅cos(θ₁(t)) - g⋅m₃⋅cos(θ₁(t)) +  ↪\n",
      "↪         dt       ⎠                                                           ↪\n",
      "↪                                                                              ↪\n",
      "\n",
      "↪                                                                              ↪\n",
      "↪                                                                              ↪\n",
      "↪ 0.5⋅k₁⋅l⋅sin(2⋅θ₁(t)) + 0.5⋅k₃⋅l⋅sin(2⋅θ₁(t)) + 1.0⋅k₄⋅l⋅(sin(θ₁(t) + θ₂(t)) ↪\n",
      "↪                                                                              ↪\n",
      "↪                                                                              ↪\n",
      "\n",
      "↪                                               2                     2        ↪\n",
      "↪                                              d                     d         ↪\n",
      "↪  - sin(θ₂(t)))⋅cos(θ₁(t) + θ₂(t)) + 1.0⋅l⋅m₁⋅───(θ₁(t)) + 1.0⋅l⋅m₃⋅───(θ₁(t) ↪\n",
      "↪                                                2                     2       ↪\n",
      "↪                                              dt                    dt        ↪\n",
      "\n",
      "↪  ⎞\n",
      "↪  ⎟\n",
      "↪ )⎟\n",
      "↪  ⎟\n",
      "↪  ⎠\n"
     ]
    }
   ],
   "source": [
    "theta_1_func = diff_T_diff_theta_1_dot - T_diff_theta_1 + D_diff_theta_1_dot + V_diff_theta_1\n",
    "theta_1_func = theta_1_func.simplify()\n",
    "sp.pprint(theta_1_func)"
   ]
  },
  {
   "cell_type": "code",
   "execution_count": 15,
   "metadata": {},
   "outputs": [
    {
     "name": "stdout",
     "output_type": "stream",
     "text": [
      "     2 ⎛   ⎛                   d                              d                ↪\n",
      "1.0⋅l ⋅⎜c₄⋅⎜cos(θ₁(t) + θ₂(t))⋅──(θ₁(t)) + cos(θ₁(t) + θ₂(t))⋅──(θ₂(t)) - cos( ↪\n",
      "       ⎝   ⎝                   dt                             dt               ↪\n",
      "\n",
      "↪        d        ⎞                                       ⎞                    ↪\n",
      "↪ θ₂(t))⋅──(θ₂(t))⎟ + k₄⋅(sin(θ₁(t) + θ₂(t)) - sin(θ₂(t)))⎟⋅(cos(θ₁(t) + θ₂(t) ↪\n",
      "↪        dt       ⎠                                       ⎠                    ↪\n",
      "\n",
      "↪                \n",
      "↪ ) - cos(θ₂(t)))\n",
      "↪                \n"
     ]
    }
   ],
   "source": [
    "theta_2_func = diff_T_diff_theta_2_dot - T_diff_theta_2 + D_diff_theta_2_dot + V_diff_theta_2\n",
    "theta_2_func = theta_2_func.simplify()\n",
    "sp.pprint(theta_2_func)"
   ]
  },
  {
   "cell_type": "code",
   "execution_count": 16,
   "metadata": {},
   "outputs": [
    {
     "name": "stdout",
     "output_type": "stream",
     "text": [
      "                                                                               ↪\n",
      "    ⎛   2         ⎞          ⎛d            d        ⎞    2                     ↪\n",
      "M⋅g⋅⎝cos (θ_M) + 1⎠ - 1.0⋅c₅⋅⎜──(y_M(t)) - ──(yₘ(t))⎟⋅cos (θ_M) + g⋅m₁ + g⋅m₂  ↪\n",
      "                             ⎝dt           dt       ⎠                          ↪\n",
      "                                                                               ↪\n",
      "\n",
      "↪                                                                     2        ↪\n",
      "↪                                                    2               d         ↪\n",
      "↪ + g⋅m₃ + 1.0⋅k₂⋅yₘ(t) - 1.0⋅k₅⋅(y_M(t) - yₘ(t))⋅cos (θ_M) + 1.0⋅m₂⋅───(yₘ(t) ↪\n",
      "↪                                                                      2       ↪\n",
      "↪                                                                    dt        ↪\n",
      "\n",
      "↪  \n",
      "↪  \n",
      "↪ )\n",
      "↪  \n",
      "↪  \n"
     ]
    }
   ],
   "source": [
    "y_m_func = diff_T_diff_y_m_dot - T_diff_y_m + D_diff_y_m_dot + V_diff_y_m\n",
    "y_m_func = y_m_func.simplify()\n",
    "sp.pprint(y_m_func)"
   ]
  },
  {
   "cell_type": "code",
   "execution_count": 17,
   "metadata": {},
   "outputs": [
    {
     "name": "stdout",
     "output_type": "stream",
     "text": [
      "                         2                                                     ↪\n",
      "         2              d                    ⎛d            d        ⎞    2     ↪\n",
      "- M⋅g⋅cos (θ_M) + 1.0⋅M⋅───(y_M(t)) + 1.0⋅c₅⋅⎜──(y_M(t)) - ──(yₘ(t))⎟⋅cos (θ_M ↪\n",
      "                          2                  ⎝dt           dt       ⎠          ↪\n",
      "                        dt                                                     ↪\n",
      "\n",
      "↪                                      \n",
      "↪                                2     \n",
      "↪ ) + 1.0⋅k₅⋅(y_M(t) - yₘ(t))⋅cos (θ_M)\n",
      "↪                                      \n",
      "↪                                      \n"
     ]
    }
   ],
   "source": [
    "y_M_func = diff_T_diff_y_M_dot - T_diff_y_M + D_diff_y_M_dot + V_diff_y_M\n",
    "y_M_func = y_M_func.simplify()\n",
    "sp.pprint(y_M_func)"
   ]
  },
  {
   "cell_type": "code",
   "execution_count": 18,
   "metadata": {},
   "outputs": [],
   "source": [
    "Q1 = sp.symbols('Q1')\n",
    "Q2 = sp.symbols('Q2')\n",
    "Q3 = sp.symbols('Q3')\n",
    "Q4 = sp.symbols('Q4')"
   ]
  },
  {
   "cell_type": "code",
   "execution_count": null,
   "metadata": {},
   "outputs": [
    {
     "name": "stdout",
     "output_type": "stream",
     "text": [
      "⎡         2    2                d               2    2                d        ↪\n",
      "⎢Q₁ - c₄⋅l ⋅cos (θ₁(t) + θ₂(t))⋅──(θ₁(t)) - c₄⋅l ⋅cos (θ₁(t) + θ₂(t))⋅──(θ₂(t) ↪\n",
      "⎢                               dt                                    dt       ↪\n",
      "⎢───────────────────────────────────────────────────────────────────────────── ↪\n",
      "⎢                                                                              ↪\n",
      "⎣                                                                              ↪\n",
      "\n",
      "↪         2                               d                                    ↪\n",
      "↪ ) + c₄⋅l ⋅cos(θ₁(t) + θ₂(t))⋅cos(θ₂(t))⋅──(θ₂(t)) - g⋅l⋅m₁⋅cos(θ₁(t)) + g⋅l⋅ ↪\n",
      "↪                                         dt                                   ↪\n",
      "↪ ──────────────────────────────────────────────────────────────────────────── ↪\n",
      "↪                                                                   2          ↪\n",
      "↪                                                                  l ⋅(m₁ + m₃ ↪\n",
      "\n",
      "↪                         2                          2                         ↪\n",
      "↪ m₃⋅cos(θ₁(t)) - 0.5⋅k₁⋅l ⋅sin(2.0⋅θ₁(t)) - 0.5⋅k₃⋅l ⋅sin(2.0⋅θ₁(t)) - 0.5⋅k₄ ↪\n",
      "↪                                                                              ↪\n",
      "↪ ──────────────────────────────────────────────────────────────────────────── ↪\n",
      "↪                                                                              ↪\n",
      "↪ )                                                                            ↪\n",
      "\n",
      "↪   2                                  2                              ⎤\n",
      "↪ ⋅l ⋅sin(2.0⋅θ₁(t) + 2.0⋅θ₂(t)) + k₄⋅l ⋅sin(θ₂(t))⋅cos(θ₁(t) + θ₂(t))⎥\n",
      "↪                                                                     ⎥\n",
      "↪ ────────────────────────────────────────────────────────────────────⎥\n",
      "↪                                                                     ⎥\n",
      "↪                                                                     ⎦\n"
     ]
    }
   ],
   "source": [
    "function1 = theta_1_func - Q1\n",
    "solution1 = sp.solve(function1, sp.diff(sp.diff(theta_1, t), t))\n",
    "sp.pprint(solution1)"
   ]
  },
  {
   "cell_type": "code",
   "execution_count": null,
   "metadata": {},
   "outputs": [
    {
     "name": "stdout",
     "output_type": "stream",
     "text": [
      "⎡         2                                                       d            ↪\n",
      "⎢Q₂ + c₄⋅l ⋅(-cos(θ₁(t) + θ₂(t)) + cos(θ₂(t)))⋅cos(θ₁(t) + θ₂(t))⋅──(θ₁(t)) +  ↪\n",
      "⎢                                                                 dt           ↪\n",
      "⎢───────────────────────────────────────────────────────────────────────────── ↪\n",
      "⎢                                                                2             ↪\n",
      "⎣                                                            c₄⋅l ⋅(cos(θ₁(t)  ↪\n",
      "\n",
      "↪     2                                                                        ↪\n",
      "↪ k₄⋅l ⋅(sin(θ₁(t) + 2.0⋅θ₂(t)) - 0.5⋅sin(2.0⋅θ₁(t) + 2.0⋅θ₂(t)) - 0.5⋅sin(2.0 ↪\n",
      "↪                                                                              ↪\n",
      "↪ ──────────────────────────────────────────────────────────────────────────── ↪\n",
      "↪                       2                                                      ↪\n",
      "↪ + θ₂(t)) - cos(θ₂(t)))                                                       ↪\n",
      "\n",
      "↪         ⎤\n",
      "↪ ⋅θ₂(t)))⎥\n",
      "↪         ⎥\n",
      "↪ ────────⎥\n",
      "↪         ⎥\n",
      "↪         ⎦\n"
     ]
    }
   ],
   "source": [
    "function2 = theta_2_func - Q2\n",
    "solution2 = sp.solve(function2, sp.diff(theta_2, t))\n",
    "sp.pprint(solution2)"
   ]
  },
  {
   "cell_type": "code",
   "execution_count": null,
   "metadata": {},
   "outputs": [
    {
     "name": "stdout",
     "output_type": "stream",
     "text": [
      "⎡         2                         2      d                  2      d         ↪\n",
      "⎢- M⋅g⋅cos (θ_M) - M⋅g + Q₃ + c₅⋅cos (θ_M)⋅──(y_M(t)) - c₅⋅cos (θ_M)⋅──(yₘ(t)) ↪\n",
      "⎢                                          dt                        dt        ↪\n",
      "⎢───────────────────────────────────────────────────────────────────────────── ↪\n",
      "⎣                                                                           m₂ ↪\n",
      "\n",
      "↪                                                 2                    2     ⎤\n",
      "↪  - g⋅m₁ - g⋅m₂ - g⋅m₃ - k₂⋅yₘ(t) + k₅⋅y_M(t)⋅cos (θ_M) - k₅⋅yₘ(t)⋅cos (θ_M)⎥\n",
      "↪                                                                            ⎥\n",
      "↪ ───────────────────────────────────────────────────────────────────────────⎥\n",
      "↪                                                                            ⎦\n"
     ]
    }
   ],
   "source": [
    "function3 = y_m_func - Q3\n",
    "solution3 = sp.solve(function3, sp.diff(sp.diff(y_m, t), t))\n",
    "sp.pprint(solution3)"
   ]
  },
  {
   "cell_type": "code",
   "execution_count": 31,
   "metadata": {},
   "outputs": [
    {
     "name": "stdout",
     "output_type": "stream",
     "text": [
      "⎡       2                   2      d                  2      d                 ↪\n",
      "⎢M⋅g⋅cos (θ_M) + Q₄ - c₅⋅cos (θ_M)⋅──(y_M(t)) + c₅⋅cos (θ_M)⋅──(yₘ(t)) - k₅⋅y_ ↪\n",
      "⎢                                  dt                        dt                ↪\n",
      "⎢───────────────────────────────────────────────────────────────────────────── ↪\n",
      "⎣                                                       M                      ↪\n",
      "\n",
      "↪         2                    2     ⎤\n",
      "↪ M(t)⋅cos (θ_M) + k₅⋅yₘ(t)⋅cos (θ_M)⎥\n",
      "↪                                    ⎥\n",
      "↪ ───────────────────────────────────⎥\n",
      "↪                                    ⎦\n"
     ]
    }
   ],
   "source": [
    "function4 = y_M_func - Q4\n",
    "solution4 = sp.solve(function4, sp.diff(sp.diff(y_M, t), t))\n",
    "sp.pprint(solution4)"
   ]
  },
  {
   "cell_type": "code",
   "execution_count": null,
   "metadata": {},
   "outputs": [],
   "source": []
  }
 ],
 "metadata": {
  "kernelspec": {
   "display_name": "Python 3",
   "language": "python",
   "name": "python3"
  },
  "language_info": {
   "codemirror_mode": {
    "name": "ipython",
    "version": 3
   },
   "file_extension": ".py",
   "mimetype": "text/x-python",
   "name": "python",
   "nbconvert_exporter": "python",
   "pygments_lexer": "ipython3",
   "version": "3.10.15"
  }
 },
 "nbformat": 4,
 "nbformat_minor": 2
}
